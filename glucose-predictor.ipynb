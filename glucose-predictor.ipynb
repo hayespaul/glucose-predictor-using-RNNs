{
 "cells": [
  {
   "cell_type": "markdown",
   "id": "ff7ae73f",
   "metadata": {},
   "source": [
    "# Predicting Blood Glucose levels for Type 1 Diabetes with Recurrent Neural Networks"
   ]
  },
  {
   "cell_type": "markdown",
   "id": "f1cfe1e9",
   "metadata": {},
   "source": [
    "The concentration of glucose in the blood fluctuates for everyone throughout the day in response to different stimuli, such as eating carbohydrates and exercise. This level is primarily maintained by insulin secreted by the pancreas. As glucose in the blood rises, the pancreas responds by increasing the concentration of insulin in step with this, and as such brings the blood glucose levels to within a homeostatic medium.\n",
    "\n",
    "For a person with Type 1 Diabetes, the pancreas is not able perform this function and glucose levels have no means of self-regulation through the body's automatic secretion of insulin. As such, Type 1 Diabetics need to manually administer their insulin through insulin injections or electronic insulin pumps to keep their glucose concentration within a healthy interval. \n",
    "\n",
    "In order for a Type 1 Diabetic to administer the optimal level of insulin in response to their glucose levels, they take a reading of their blood glucose beforehand. They will then quantify the expected carbohydrates they intend to consume and then administer a specific insulin amount themselves. \n",
    "\n",
    "Within the last 10 years, a sizeable percentage of Type 1 Diabetics now use sensors that provide glucose readings in 5 minute intervals. This can be used for taking glucose measurements automatically, and not having to rely on individual finger-prick tests each time. \n",
    "\n",
    "\n",
    "\n"
   ]
  },
  {
   "cell_type": "code",
   "execution_count": null,
   "id": "1fce91bb",
   "metadata": {},
   "outputs": [],
   "source": []
  },
  {
   "cell_type": "code",
   "execution_count": null,
   "id": "1b2d2964",
   "metadata": {},
   "outputs": [],
   "source": []
  }
 ],
 "metadata": {
  "kernelspec": {
   "display_name": "Python 3 (ipykernel)",
   "language": "python",
   "name": "python3"
  },
  "language_info": {
   "codemirror_mode": {
    "name": "ipython",
    "version": 3
   },
   "file_extension": ".py",
   "mimetype": "text/x-python",
   "name": "python",
   "nbconvert_exporter": "python",
   "pygments_lexer": "ipython3",
   "version": "3.11.5"
  }
 },
 "nbformat": 4,
 "nbformat_minor": 5
}
