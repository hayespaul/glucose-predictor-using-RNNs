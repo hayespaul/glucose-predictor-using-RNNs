{
 "cells": [
  {
   "cell_type": "markdown",
   "id": "4225c706",
   "metadata": {},
   "source": [
    "# Predicting Blood Glucose levels for Type 1 Diabetes with Recurrent Neural Networks"
   ]
  },
  {
   "cell_type": "markdown",
   "id": "f47d46a1",
   "metadata": {},
   "source": [
    "The concentration of glucose in the blood fluctuates for everyone throughout the day in response to different stimuli, such as eating carbohydrates and exercise. This level is primarily maintained by insulin secreted by the pancreas. As glucose in the blood rises, the pancreas responds by increasing the concentration of insulin in step with this, and as such brings the blood glucose levels to within a homeostatic medium.\n",
    "\n",
    "For a person with Type 1 Diabetes, the pancreas is not able perform this function and glucose levels have no means of self-regulation through the body's automatic secretion of insulin. As such, Type 1 Diabetics need to manually administer their insulin through insulin injections or electronic insulin pumps to keep their glucose concentration within a healthy interval. In order for a Type 1 Diabetic to administer the optimal level of insulin in response to their glucose levels, they take a reading of their blood glucose beforehand. They will then quantify the expected carbohydrates they intend to consume and then administer a specific insulin amount themselves. \n",
    "\n",
    "Within the last 10 years, a sizeable percentage of Type 1 Diabetics now use sensors that provide glucose readings in 5 minute intervals. This can be used for taking glucose measurements automatically, and not having to rely on individual finger-prick tests each time. \n",
    "\n",
    "\n"
   ]
  },
  {
   "cell_type": "markdown",
   "id": "3ee71afa",
   "metadata": {},
   "source": [
    "# Recurrent Neural Networks"
   ]
  },
  {
   "cell_type": "markdown",
   "id": "0c0bb943",
   "metadata": {},
   "source": [
    "Recurrent Neural Networks (RNNs) are a class of neural networks that are particularly suited for sequential data processing, making them ideal for applications in time series forecasting. The key feature of RNNs is their ability to maintain a 'memory' of previous inputs by incorporating feedback loops in their architecture. This allows them to capture temporal dependencies and patterns in time series data, which is crucial for accurate forecasting.\n",
    "\n",
    "Time series forecasting involves predicting future values of a sequence based on its past values. RNNs are well-suited for this task due to their ability to process sequences and maintain state across time steps. Blood glucose levels exhibit temporal patterns and dependencies, such as postprandial spikes (after eating) and circadian variations. RNNs are adept at capturing these patterns due to their sequential processing nature and memory of past inputs, making them suitable for modeling glucose dynamics. The use of Continuous Glucose Monitoring (CGM) systems generates a continuous stream of glucose data. RNNs are well-suited for real-time analysis of this data, providing timely predictions that can inform immediate management decisions.\n",
    "\n",
    "Given the challenges of predicting blood glucose levels, advanced variants of RNNs, such as Long Short-Term Memory (LSTM) networks and Gated Recurrent Units (GRUs), can be employed. These architectures are designed to better handle long-term dependencies and avoid issues like the vanishing gradient problem, making them more effective for predicting complex time series data like blood glucose levels."
   ]
  },
  {
   "cell_type": "markdown",
   "id": "ce52caf0",
   "metadata": {},
   "source": [
    "# Model details"
   ]
  },
  {
   "cell_type": "code",
   "execution_count": null,
   "id": "5e30b133",
   "metadata": {},
   "outputs": [],
   "source": []
  }
 ],
 "metadata": {
  "kernelspec": {
   "display_name": "Python 3 (ipykernel)",
   "language": "python",
   "name": "python3"
  },
  "language_info": {
   "codemirror_mode": {
    "name": "ipython",
    "version": 3
   },
   "file_extension": ".py",
   "mimetype": "text/x-python",
   "name": "python",
   "nbconvert_exporter": "python",
   "pygments_lexer": "ipython3",
   "version": "3.11.5"
  }
 },
 "nbformat": 4,
 "nbformat_minor": 5
}
